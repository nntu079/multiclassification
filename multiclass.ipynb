{
  "nbformat": 4,
  "nbformat_minor": 0,
  "metadata": {
    "colab": {
      "provenance": [],
      "mount_file_id": "11qexbV_pOGi-IJQeKVm54Jmc6L0WnFx5",
      "authorship_tag": "ABX9TyPi7oHI8AR1pD1vAGnpRPRe",
      "include_colab_link": true
    },
    "kernelspec": {
      "name": "python3",
      "display_name": "Python 3"
    },
    "language_info": {
      "name": "python"
    }
  },
  "cells": [
    {
      "cell_type": "markdown",
      "metadata": {
        "id": "view-in-github",
        "colab_type": "text"
      },
      "source": [
        "<a href=\"https://colab.research.google.com/github/nntu079/multiclassification/blob/main/multiclass.ipynb\" target=\"_parent\"><img src=\"https://colab.research.google.com/assets/colab-badge.svg\" alt=\"Open In Colab\"/></a>"
      ]
    },
    {
      "cell_type": "code",
      "source": [
        "!pip install transformers"
      ],
      "metadata": {
        "id": "XF3vgI7aAXHY"
      },
      "execution_count": null,
      "outputs": []
    },
    {
      "cell_type": "code",
      "source": [
        "import torch\n",
        "from transformers import AutoModel, AutoTokenizer\n",
        "from torch import nn\n",
        "from torch.optim import Adam\n",
        "import numpy as np\n",
        "from tqdm import tqdm\n",
        "tokenizer = AutoTokenizer.from_pretrained(\"vinai/phobert-base-v2\")"
      ],
      "metadata": {
        "id": "gfm8lV1AHltc"
      },
      "execution_count": null,
      "outputs": []
    },
    {
      "cell_type": "code",
      "source": [
        "texts = [\n",
        "    \"Sản phẩm tốt , đẹp keng , tiếc là ko lên đc android 9 vì ko có sim softbank , chủ shop nhiệt tình.\",\n",
        "     \"Nhận máy mình rất bất ngờ máy đẹp lắm ạ\\nMới dùng thấy rất tốt về sau thì chưa biết\\nShop trả lời rất nhiệt tình\\nCảm ơn shop\",\n",
        "     \"Máy đẹp quá, hàng đúng chuẩn luôn ,shop rất uy tín giao hàng nhanh chất lượng đúng như quảng bá, giá cả hợp lý, máy mới đẹp, các ứng dụng chạy ổn định, các chức năng cơ bản hoạt động rất tốt, màn hình cảm ứng nhạy, sáng, màu sắc rực rỡ, mình rất hài lòng vừa ý, sẽ ủng hộ shop thêm ở đơn hàng sao,,,\",\n",
        "     \"Shop rất uy tín. Máy bị lỗi khay sim, shop đã đổi lại máy khác.\",\n",
        "     \"Trừ 1 sao vì báo số liệu pin chưa chính xác nha. Shop tư vấn khá nhiệt tình\",\n",
        "    \"Máy tầm 90% về ngoại hình, áp ok ! Nói chung máy vẫn còn đẹp! Thử dùng vài ngày thì mọi thứ tạm ổn! Tặng shop 5 sao\",\n",
        "     ]\n",
        "\n",
        "labels1 = {\n",
        "    0:\"mẫu mã\",\n",
        "    1:\"dịch vụ\",\n",
        "    2:\"hiệu năng\",\n",
        "    3:\"cấu hình\",\n",
        "    4:\"giá\",\n",
        "    5:\"other\"\n",
        "}\n",
        "\n",
        "labels = [\n",
        "[1,1,0,0,0,0],\n",
        "[1,1,0,0,0,0],\n",
        "[1,0,1,1,1,0],\n",
        "[0,1,0,0,0,1],\n",
        "[0,1,0,0,0,1],\n",
        "[1,0,0,0,0,0],\n",
        "]\n"
      ],
      "metadata": {
        "id": "G0I0VHXoIFJj"
      },
      "execution_count": null,
      "outputs": []
    },
    {
      "cell_type": "code",
      "execution_count": null,
      "metadata": {
        "id": "K95XRz-xHSEg"
      },
      "outputs": [],
      "source": [
        "class Dataset(torch.utils.data.Dataset):\n",
        "\n",
        "    def __init__(self,labels, tokenizer, texts):\n",
        "\n",
        "        self.labels = labels\n",
        "        self.texts = [tokenizer(text,\n",
        "                                padding='max_length', max_length=128, truncation=True,\n",
        "                                return_tensors=\"pt\") for text in texts]\n",
        "\n",
        "    def classes(self):\n",
        "        return self.labels\n",
        "\n",
        "    def __len__(self):\n",
        "        return len(self.labels)\n",
        "\n",
        "    def get_batch_labels(self, idx):\n",
        "        # Fetch a batch of labels\n",
        "        return np.array(self.labels[idx])\n",
        "\n",
        "    def get_batch_texts(self, idx):\n",
        "        # Fetch a batch of inputs\n",
        "        return self.texts[idx]['input_ids']\n",
        "\n",
        "    def __getitem__(self, idx):\n",
        "\n",
        "        batch_texts = self.get_batch_texts(idx)\n",
        "        batch_y = self.get_batch_labels(idx)\n",
        "\n",
        "        return batch_texts, batch_y"
      ]
    },
    {
      "cell_type": "code",
      "source": [
        "class Classifier(nn.Module):\n",
        "\n",
        "    def __init__(self,num_class=10):\n",
        "        super().__init__()\n",
        "        self.linear1 = nn.Linear(128, 300)\n",
        "        self.sigmoid = nn.Sigmoid()\n",
        "        self.linear2 = nn.Linear(300, num_class)\n",
        "        self.softmax = nn.Hardsigmoid()\n",
        "\n",
        "    def forward(self, input_id):\n",
        "        input_id = input_id.resize_(1, 128)\n",
        "        input_id = input_id.to(torch.float32)\n",
        "\n",
        "        linear1_output = self.linear1(input_id)\n",
        "        sigmoid = self.sigmoid(linear1_output)\n",
        "        linear2_output = self.linear2(sigmoid)\n",
        "\n",
        "        return self.softmax(linear2_output)"
      ],
      "metadata": {
        "id": "hLomaP5wJVNo"
      },
      "execution_count": null,
      "outputs": []
    },
    {
      "cell_type": "code",
      "source": [
        "dataset =Dataset(labels=labels,tokenizer=tokenizer,texts=texts)\n",
        "\n",
        "model = Classifier(num_class=6)"
      ],
      "metadata": {
        "id": "920ORhMSIYrS"
      },
      "execution_count": null,
      "outputs": []
    },
    {
      "cell_type": "code",
      "source": [
        "dataset.get_batch_texts(0)"
      ],
      "metadata": {
        "id": "VjEhnrD-Ipzb"
      },
      "execution_count": null,
      "outputs": []
    },
    {
      "cell_type": "code",
      "source": [
        "model.forward(dataset.get_batch_texts(0))"
      ],
      "metadata": {
        "id": "vFYzj32vJ9Vp"
      },
      "execution_count": null,
      "outputs": []
    },
    {
      "cell_type": "code",
      "source": [
        "def train(model, train_data,learning_rate=0.001, epochs=10):\n",
        "\n",
        "\n",
        "    train_dataloader = torch.utils.data.DataLoader(\n",
        "        train_data, batch_size=1, shuffle=True)\n",
        "\n",
        "    criterion = nn.CrossEntropyLoss()\n",
        "    optimizer = Adam(model.parameters(), lr=learning_rate)\n",
        "\n",
        "    for _ in range(epochs):\n",
        "\n",
        "        model.train()\n",
        "        for train_input, train_label in tqdm(train_dataloader):\n",
        "\n",
        "            input_id = train_input\n",
        "            output = model(input_id)\n",
        "\n",
        "            print(output)\n",
        "            print(train_label)\n",
        "            \n",
        "            batch_loss = criterion(output, train_label.float())\n",
        "   \n",
        "            model.zero_grad()\n",
        "            batch_loss.backward()\n",
        "            optimizer.step()"
      ],
      "metadata": {
        "id": "FaSIo0hsKkP2"
      },
      "execution_count": null,
      "outputs": []
    },
    {
      "cell_type": "code",
      "source": [
        "train(model,dataset)"
      ],
      "metadata": {
        "id": "J5x7B5ukKmgu"
      },
      "execution_count": null,
      "outputs": []
    },
    {
      "cell_type": "code",
      "source": [
        "result = model.forward(dataset.get_batch_texts(5)).tolist()[0]"
      ],
      "metadata": {
        "id": "Ei6WyE_AMEgV"
      },
      "execution_count": null,
      "outputs": []
    },
    {
      "cell_type": "code",
      "source": [
        "result"
      ],
      "metadata": {
        "colab": {
          "base_uri": "https://localhost:8080/"
        },
        "id": "xJ6JMPmuSYwR",
        "outputId": "21342ab2-f60a-4585-ac0d-5da3a25f502b"
      },
      "execution_count": null,
      "outputs": [
        {
          "output_type": "execute_result",
          "data": {
            "text/plain": [
              "[1.0, 0.8027536869049072, 0.0, 0.0, 0.0, 0.4136916697025299]"
            ]
          },
          "metadata": {},
          "execution_count": 130
        }
      ]
    },
    {
      "cell_type": "code",
      "source": [
        "[ 1 if x >= 0.5 else 0 for x in result ]"
      ],
      "metadata": {
        "colab": {
          "base_uri": "https://localhost:8080/"
        },
        "id": "PS5ltNqCSgGj",
        "outputId": "f585b7db-0c20-42f3-97b6-4e73632924b0"
      },
      "execution_count": null,
      "outputs": [
        {
          "output_type": "execute_result",
          "data": {
            "text/plain": [
              "[1, 1, 0, 0, 0, 0]"
            ]
          },
          "metadata": {},
          "execution_count": 131
        }
      ]
    },
    {
      "cell_type": "code",
      "source": [
        "t = [ 1 if x >= 0.5 else 0 for x in result ]\n",
        "\n",
        "for index,value in enumerate(t):\n",
        "  if(value == 1):\n",
        "    print(labels1[index])"
      ],
      "metadata": {
        "colab": {
          "base_uri": "https://localhost:8080/"
        },
        "id": "OM9PO2_HGj-G",
        "outputId": "13aeac8d-cc93-4cd8-cc21-d7856b3fa2ad"
      },
      "execution_count": null,
      "outputs": [
        {
          "output_type": "stream",
          "name": "stdout",
          "text": [
            "mẫu mã\n",
            "dịch vụ\n"
          ]
        }
      ]
    }
  ]
}